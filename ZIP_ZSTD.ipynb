{
  "cells": [
    {
      "cell_type": "markdown",
      "metadata": {
        "id": "nKXFZIVn6Gs8"
      },
      "source": [
        "# やっぱりzstdのほうがよかった　GoでZIP内部のzstdを解凍"
      ]
    },
    {
      "cell_type": "markdown",
      "metadata": {
        "id": "LOE1iCHvdpXp"
      },
      "source": [
        "[以前の記事（一筋縄ではいかない　GoでZIPの中のBZIP2を解凍）](https://qiita.com/saliton/items/1a67dcaa8e4890908c48)で、zipの圧縮にbzip2を使ったものをGo言語で読み出す方法について記載しました。しかし、zstdのほうが高性能ということなので同じことをzstdでやってみます。\n"
      ]
    },
    {
      "cell_type": "markdown",
      "metadata": {
        "id": "tOlDZlc1igFR"
      },
      "source": [
        "まずサンプルを用意します。"
      ]
    },
    {
      "cell_type": "code",
      "execution_count": null,
      "metadata": {
        "colab": {
          "base_uri": "https://localhost:8080/"
        },
        "id": "xRS0bLcBhy0x",
        "outputId": "e5909e56-31db-46df-92ce-a45029cf14a2"
      },
      "outputs": [
        {
          "name": "stdout",
          "output_type": "stream",
          "text": [
            "  724  4977 38134 man.txt\n"
          ]
        }
      ],
      "source": [
        "!man man > man.txt\n",
        "!wc man.txt"
      ]
    },
    {
      "cell_type": "markdown",
      "metadata": {
        "id": "7PMJzhY3ipe2"
      },
      "source": [
        "zstdでzipアーカイブを作るには、zipfile-zstdモジュールを使うので、インストールします。\n"
      ]
    },
    {
      "cell_type": "code",
      "execution_count": null,
      "metadata": {
        "colab": {
          "base_uri": "https://localhost:8080/"
        },
        "id": "KX1RQ5Lqh6u9",
        "outputId": "427a9be2-6752-4e0c-f43a-57e2509d6465"
      },
      "outputs": [
        {
          "name": "stdout",
          "output_type": "stream",
          "text": [
            "Collecting zipfile-zstd\n",
            "  Downloading zipfile_zstd-0.0.3-py3-none-any.whl (4.1 kB)\n",
            "Collecting zstandard>=0.15.0\n",
            "  Downloading zstandard-0.15.2-cp37-cp37m-manylinux2014_x86_64.whl (2.2 MB)\n",
            "\u001b[K     |████████████████████████████████| 2.2 MB 7.9 MB/s \n",
            "\u001b[?25hInstalling collected packages: zstandard, zipfile-zstd\n",
            "Successfully installed zipfile-zstd-0.0.3 zstandard-0.15.2\n"
          ]
        }
      ],
      "source": [
        "!pip install zipfile-zstd"
      ]
    },
    {
      "cell_type": "markdown",
      "metadata": {
        "id": "UmP8KyqzmYRb"
      },
      "source": [
        "これを使ってアーカイブを作るのは以下です。"
      ]
    },
    {
      "cell_type": "code",
      "execution_count": null,
      "metadata": {
        "colab": {
          "base_uri": "https://localhost:8080/"
        },
        "id": "6zFNan5_AHpd",
        "outputId": "47711e6d-a51e-493b-f328-bbff0d546b22"
      },
      "outputs": [
        {
          "name": "stdout",
          "output_type": "stream",
          "text": [
            "Archive:  man.zip\n",
            "Zip file size: 12162 bytes, number of entries: 1\n",
            "-rw-r--r--  6.3 unx    38134 b- u093 21-Oct-06 08:54 man.txt\n",
            "1 file, 38134 bytes uncompressed, 12050 bytes compressed:  68.4%\n"
          ]
        }
      ],
      "source": [
        "import zipfile_zstd as zipfile\n",
        "with zipfile.ZipFile('man.zip', 'w', zipfile.ZIP_ZSTANDARD, compresslevel=19) as zfile:\n",
        "    zfile.write('man.txt', 'man.txt')\n",
        "\n",
        "!zipinfo man.zip"
      ]
    },
    {
      "cell_type": "markdown",
      "metadata": {
        "id": "k_XpaYfVjnew"
      },
      "source": [
        "bzip2では70.2%でしたので、少し良くなっています。さらにzstdの方が解凍速度がすごく速いらしい。"
      ]
    },
    {
      "cell_type": "markdown",
      "metadata": {
        "id": "iH1B9KDqjuv9"
      },
      "source": [
        "次にGo言語をインストールします。"
      ]
    },
    {
      "cell_type": "code",
      "execution_count": null,
      "metadata": {
        "colab": {
          "base_uri": "https://localhost:8080/"
        },
        "id": "9pEAhwxiICvr",
        "outputId": "c9fe1fcb-627e-40c6-fc20-8f3e402fbd2c"
      },
      "outputs": [
        {
          "name": "stdout",
          "output_type": "stream",
          "text": [
            "--2021-10-06 08:55:05--  https://golang.org/dl/go1.17.1.linux-amd64.tar.gz\n",
            "Resolving golang.org (golang.org)... 74.125.142.141, 2607:f8b0:400e:c01::8d\n",
            "Connecting to golang.org (golang.org)|74.125.142.141|:443... connected.\n",
            "HTTP request sent, awaiting response... 302 Found\n",
            "Location: https://dl.google.com/go/go1.17.1.linux-amd64.tar.gz [following]\n",
            "--2021-10-06 08:55:05--  https://dl.google.com/go/go1.17.1.linux-amd64.tar.gz\n",
            "Resolving dl.google.com (dl.google.com)... 74.125.195.93, 74.125.195.136, 74.125.195.91, ...\n",
            "Connecting to dl.google.com (dl.google.com)|74.125.195.93|:443... connected.\n",
            "HTTP request sent, awaiting response... 200 OK\n",
            "Length: 134784143 (129M) [application/x-gzip]\n",
            "Saving to: ‘go1.17.1.linux-amd64.tar.gz’\n",
            "\n",
            "go1.17.1.linux-amd6 100%[===================>] 128.54M   217MB/s    in 0.6s    \n",
            "\n",
            "2021-10-06 08:55:06 (217 MB/s) - ‘go1.17.1.linux-amd64.tar.gz’ saved [134784143/134784143]\n",
            "\n"
          ]
        }
      ],
      "source": [
        "!wget https://golang.org/dl/go1.17.1.linux-amd64.tar.gz\n",
        "!tar -C /usr/local -xzf go1.17.1.linux-amd64.tar.gz\n",
        "\n",
        "import os\n",
        "os.environ['PATH'] += \":/usr/local/go/bin\""
      ]
    },
    {
      "cell_type": "code",
      "execution_count": null,
      "metadata": {
        "colab": {
          "base_uri": "https://localhost:8080/"
        },
        "id": "WowJaQPYkCtB",
        "outputId": "ba21226a-0358-4a6f-885e-53d9110f1ece"
      },
      "outputs": [
        {
          "name": "stdout",
          "output_type": "stream",
          "text": [
            "go version go1.17.1 linux/amd64\n"
          ]
        }
      ],
      "source": [
        "!go version"
      ]
    },
    {
      "cell_type": "markdown",
      "metadata": {
        "id": "EEjmqIrfkNoZ"
      },
      "source": [
        "それではgo言語でzipの中身を覗いてみましょう。まずは以下でunzip.goファイルにプログラムを書き込みます。"
      ]
    },
    {
      "cell_type": "code",
      "execution_count": null,
      "metadata": {
        "colab": {
          "base_uri": "https://localhost:8080/"
        },
        "id": "FNaOrtqLBpu8",
        "outputId": "87af4fae-72ba-45ee-cfe2-b858812b0f65"
      },
      "outputs": [
        {
          "name": "stdout",
          "output_type": "stream",
          "text": [
            "Overwriting unzip.go\n"
          ]
        }
      ],
      "source": [
        "%%writefile unzip.go\n",
        "package main\n",
        "\n",
        "import (\n",
        "    \"archive/zip\"\n",
        "    \"fmt\"\n",
        "    \"log\"\n",
        ")\n",
        "\n",
        "func main() {\n",
        "    zfile, _ := zip.OpenReader(\"man.zip\")\n",
        "    defer zfile.Close()\n",
        "\n",
        "    for _, f := range zfile.File {\n",
        "        _, err := f.Open()\n",
        "        if err != nil {\n",
        "            fmt.Println(f.Method)\n",
        "            log.Fatal(err)\n",
        "        }\n",
        "        fmt.Println(f.FileInfo().Name())\n",
        "    }\n",
        "}"
      ]
    },
    {
      "cell_type": "markdown",
      "metadata": {
        "id": "X7EJS4lZk8zi"
      },
      "source": [
        "早速実行！"
      ]
    },
    {
      "cell_type": "code",
      "execution_count": null,
      "metadata": {
        "colab": {
          "base_uri": "https://localhost:8080/"
        },
        "id": "nM5j3xHMCAnM",
        "outputId": "ed62df13-b44a-41fc-dafa-0eff8ca970ae"
      },
      "outputs": [
        {
          "name": "stdout",
          "output_type": "stream",
          "text": [
            "93\n",
            "2021/10/06 08:55:46 zip: unsupported compression algorithm\n",
            "exit status 1\n"
          ]
        }
      ],
      "source": [
        "!go run unzip.go"
      ]
    },
    {
      "cell_type": "markdown",
      "metadata": {
        "id": "KfPJ-l7HlC61"
      },
      "source": [
        "案の定、そんな圧縮方式知らぬと怒られました。しかし、メソッド番号が93であることが分かりました。実はよく調べたら、この番号は[ここ](https://pkware.cachefly.net/webdocs/casestudies/APPNOTE.TXT)に書いてありました。\n",
        "\n",
        "そして、Go言語のzstdのモジュールは[github.com/klauspost/compress/zstd](https://pkg.go.dev/github.com/klauspost/compress/zstd)にありました。\n",
        "\n",
        "完成したプログラムがこちら\n"
      ]
    },
    {
      "cell_type": "code",
      "execution_count": null,
      "metadata": {
        "colab": {
          "base_uri": "https://localhost:8080/"
        },
        "id": "9V3KqZnqFdAu",
        "outputId": "8d16e3fd-c5e6-4ab1-fbfb-d71b38e44b5e"
      },
      "outputs": [
        {
          "name": "stdout",
          "output_type": "stream",
          "text": [
            "Writing unzip_fixed.go\n"
          ]
        }
      ],
      "source": [
        "%%writefile unzip_fixed.go\n",
        "package main\n",
        "\n",
        "import (\n",
        "    \"archive/zip\"\n",
        "    \"github.com/klauspost/compress/zstd\"\n",
        "    \"fmt\"\n",
        "    \"io\"\n",
        "    \"log\"\n",
        ")\n",
        "\n",
        "func main() {\n",
        "    zfile, _ := zip.OpenReader(\"man.zip\")\n",
        "    defer zfile.Close()\n",
        "\n",
        "\tzfile.RegisterDecompressor(93, func(in io.Reader) io.ReadCloser {\n",
        "        dec, _ := zstd.NewReader(in)\n",
        "\t\treturn io.NopCloser(dec)\n",
        "\t})\n",
        "\n",
        "    for _, f := range zfile.File {\n",
        "        rc, err := f.Open()\n",
        "        if err != nil {\n",
        "            log.Fatal(err)\n",
        "        }\n",
        "        fmt.Println(f.FileInfo().Name())\n",
        "        if !f.FileInfo().IsDir() {\n",
        "            buf := make([]byte, f.UncompressedSize)\n",
        "            n, _ := io.ReadFull(rc, buf)\n",
        "            fmt.Println(n)\n",
        "        }\n",
        "    }\n",
        "}"
      ]
    },
    {
      "cell_type": "markdown",
      "metadata": {
        "id": "sA9f1ZH0p4v_"
      },
      "source": [
        "さっそく実行と行きたいところですが、外部モジュールを使っているので、その準備をば。"
      ]
    },
    {
      "cell_type": "code",
      "execution_count": null,
      "metadata": {
        "colab": {
          "base_uri": "https://localhost:8080/"
        },
        "id": "ghrhQta_j8pF",
        "outputId": "a3b8114c-9d3d-4214-86c0-89e93b7ba3c0"
      },
      "outputs": [
        {
          "name": "stdout",
          "output_type": "stream",
          "text": [
            "go: creating new go.mod: module unzip\n",
            "go: to add module requirements and sums:\n",
            "\tgo mod tidy\n"
          ]
        }
      ],
      "source": [
        "!go mod init unzip"
      ]
    },
    {
      "cell_type": "code",
      "execution_count": null,
      "metadata": {
        "colab": {
          "base_uri": "https://localhost:8080/"
        },
        "id": "Qf9LmmXLkBkE",
        "outputId": "5720ba1f-72ca-483c-c3d1-f231fb2a5788"
      },
      "outputs": [
        {
          "name": "stdout",
          "output_type": "stream",
          "text": [
            "go: finding module for package github.com/klauspost/compress/zstd\n",
            "go: downloading github.com/klauspost/compress v1.13.6\n",
            "go: found github.com/klauspost/compress/zstd in github.com/klauspost/compress v1.13.6\n"
          ]
        }
      ],
      "source": [
        "!go mod tidy"
      ]
    },
    {
      "cell_type": "markdown",
      "metadata": {
        "id": "bEV99vUEqGjS"
      },
      "source": [
        "実行！"
      ]
    },
    {
      "cell_type": "code",
      "execution_count": null,
      "metadata": {
        "colab": {
          "base_uri": "https://localhost:8080/"
        },
        "id": "q-Omq02kF3h7",
        "outputId": "5780bc9e-9fcd-487c-f2a9-41dbb523b212"
      },
      "outputs": [
        {
          "name": "stdout",
          "output_type": "stream",
          "text": [
            "man.txt\n",
            "38134\n"
          ]
        }
      ],
      "source": [
        "!go run unzip_fixed.go"
      ]
    },
    {
      "cell_type": "markdown",
      "metadata": {
        "id": "fnJH8ntOyEkF"
      },
      "source": [
        "ちゃんと解凍できました！\n"
      ]
    }
  ],
  "metadata": {
    "colab": {
      "name": "ZIP_ZSTD.ipynb",
      "provenance": []
    },
    "kernelspec": {
      "display_name": "Python 3",
      "name": "python3"
    },
    "language_info": {
      "name": "python"
    }
  },
  "nbformat": 4,
  "nbformat_minor": 0
}